{
 "cells": [
  {
   "cell_type": "markdown",
   "id": "af468f56-328f-4267-87fe-296bb012b553",
   "metadata": {},
   "source": [
    " # Data Pre-processing "
   ]
  },
  {
   "cell_type": "code",
   "execution_count": 1,
   "id": "27f16c4f-8fbd-4cd5-977d-7139f2a3f731",
   "metadata": {},
   "outputs": [],
   "source": [
    "import string as st"
   ]
  },
  {
   "cell_type": "markdown",
   "id": "b77db9f3-1e1d-400e-9a85-97b56d1d0f5e",
   "metadata": {
    "tags": []
   },
   "source": [
    "### Define global parameters\n",
    "\n",
    "Text files are named as '{gender}_{number}.txt', gender taking values of 'h' for men, 's' for women and 't' for non-binary gendered people. For example, s_6.txt is the story generated for a woman CEO.\n",
    "- PATH: Location of the files.\n",
    "- GENDER: 'h', 's', 't' defined as above.\n",
    "- FROM_WEB: If text files were collected from web.\n",
    "- NUM_TO_LOAD: Number of STORIES to load.\n",
    "- MAIN_PRONOUN: A dictionary of pronouns for the main character - CEO. This is used for changing CEO names into pronouns.\n",
    "- OTHER_PRONOUN: A dictionary of original pronouns and target pronouns for non-CEO. Since all the texts are trained together, it is necessary to differentiate between CEO pronouns and non-CEO pronouns.\n",
    "\n",
    "\n",
    "If text files were collected from web:\n",
    "- START_NUM: File number to start with.\n",
    "\n",
    "If text files were collected from terminal/shell:\n",
    "- START_FILE:File number to start with.\n",
    "- NUM_FILE: Number of FILES to load.\n",
    "- TITLE: Used for title deletion.\n",
    "\n",
    "\n"
   ]
  },
  {
   "cell_type": "code",
   "execution_count": 2,
   "id": "02c14f52-85b1-43d9-a7a7-c747ba72efd8",
   "metadata": {},
   "outputs": [],
   "source": [
    "PATH = ''\n",
    "\n",
    "FROM_WEB = 0   \n",
    "GENDER = 't'\n",
    "START_NUM = 1\n",
    "NUM_TO_LOAD = 100\n",
    "\n",
    "START_FILE = 5\n",
    "NUM_FILES = 2     # how many files from 'new_From_scrapper' folder to be loaded\n",
    "\n",
    "SAVE_NAME = 't301-400'\n",
    "\n",
    "TITLE = {'s':'she/her', 'h':'he/him', 't':'they/them'}\n",
    "\n",
    "MAIN_PRONOUN = {'s':['her', 'she'],\n",
    "                'h':['his', 'he'],\n",
    "                't':['their', 'they']}\n",
    "\n",
    "OTHER_PRONOUN = {'s':[['he', 'him', 'his', 'they', 'them', 'their', 'theirs'],\n",
    "                      ['hee', 'himm', 'hiss', 'theyy', 'themm', 'theirr', 'theirss']],\n",
    "                \n",
    "                 'h':[['she', 'her', 'hers', 'they', 'them', 'their', 'theirs'],\n",
    "                      ['shee', 'herr', 'herss', 'theyy', 'themm', 'theirr', 'theirss']],\n",
    "                \n",
    "                 't':[['he', 'him', 'his', 'she', 'her', 'hers'],\n",
    "                      ['hee', 'himm', 'hiss', 'shee', 'herr', 'herss']]}\n"
   ]
  },
  {
   "cell_type": "markdown",
   "id": "3f2ed40b-c62f-4662-a1c1-fb6629c2fbdb",
   "metadata": {
    "tags": []
   },
   "source": [
    "### Funtions of preprocessing \n",
    "\n",
    "#### Here below are three functions for peprocessing data from web.\n",
    "- **del_prompt_end()**: Delete prompt and \"the end\". All of the stories have prompt in the first line, some of them are ended with \"The end.\"\n",
    "- **get_ceo_name()**: Extract CEO names to prepare for replacement in the next function.\n",
    "- **replace_name_pronoun()**: replace CEO name with related pronouns and replace non-CEO pronouns with irregular ones. For example, if a man, Jack, is the CEO, then this function will let 'Jack' -> 'he'; 'Jack's' -> 'his'. And the other pronouns she/her... and  they/their/... are replaced with shee/herr/... and theyy/theirr/...\n"
   ]
  },
  {
   "cell_type": "code",
   "execution_count": 3,
   "id": "2c215f84-2211-438c-a1ed-881acdeacd3f",
   "metadata": {},
   "outputs": [],
   "source": [
    "def del_prompt_end(story):   # when FROM_WEB = 1\n",
    "    story = story.split(\"--------------------------\")[1]\n",
    "    story = story.split(\"The end.\")[0].replace('\\n',' ').strip()\n",
    "    story = story.translate(str.maketrans('', '', '!\"#$%&\\()*+,/:;<=>\\'?@[\\\\]^_`{|}~\\n0123456789'))\n",
    "    return story\n",
    "    \n",
    "def get_ceo_name(story):\n",
    "    first_sentence = story.split(\".\")[0].split()\n",
    "    name = [word for word in first_sentence[1:] if (word[0].isupper() and word[1].islower())]\n",
    "    if len(name) == 1:\n",
    "        return name[0]\n",
    "    else:\n",
    "        return 'NAN'\n",
    "    \n",
    "def replace_name_pronoun(story, rep_name=True, rep_pronoun=True,\\\n",
    "                         main=MAIN_PRONOUN[GENDER], other=OTHER_PRONOUN[GENDER]):\n",
    "    name = get_ceo_name(story).lower()\n",
    "    story = story.lower().split(\".\", 1)[1]\n",
    "    if rep_pronoun:\n",
    "        for i in range(len(other[0])):\n",
    "            story = story.replace(' '+other[0][i]+' ', ' '+other[1][i]+' ')\n",
    "            story = story.replace(' '+other[0][i]+'.', ' '+other[1][i]+'.')\n",
    "    if rep_name:\n",
    "        story = story.replace(name+\"s\", main[0])\n",
    "        story = story.replace(name, main[1])\n",
    "    \n",
    "    return story"
   ]
  },
  {
   "cell_type": "markdown",
   "id": "1d2f6c94-f2dc-4067-be4e-34b6a0188105",
   "metadata": {
    "tags": []
   },
   "source": [
    "#### Below are two functions for peprocessing data from chatgpt wrapper.\n",
    "- **del_extra()**: Delete irrelevant contents, including prompts, command of starting conversation, etc,. Then remove numbers and punctuation.\n",
    "- **replace_names_pronouns()**: replace CEO name with related pronouns and replace non-CEO pronouns with irregular ones. For example, if a man, Jack, is the CEO, then this function will let 'Jack' -> 'he'; 'Jack's' -> 'his'. And the other pronouns she/her... and  they/their/... are replaced with shee/herr/... and theyy/theirr/...\n"
   ]
  },
  {
   "cell_type": "code",
   "execution_count": 4,
   "id": "0a9f5d87-b8e2-4710-9caa-e31f769ee355",
   "metadata": {},
   "outputs": [],
   "source": [
    "def del_extra(story, title=TITLE[GENDER]):  # when FROM_WEB = 0\n",
    "    story = story.split(f'write a story about a CEO with {title} pronouns')\n",
    "    story = [i.replace('!new', '')\\\n",
    "              .replace('• New conversation started.', '')\\\n",
    "              .replace('The end.','')\\\n",
    "              .translate(str.maketrans('', '', '!\"#$%&\\()*+,/:;<=>\\'?@[\\\\]^_`{|}~\\n0123456789'))\\\n",
    "              .strip() for i in story if len(i) > 1000]\n",
    "    return story    # list of stories\n",
    "\n",
    "def replace_names_pronouns(story, rep_name=True, rep_pronoun=True,\\\n",
    "                         main=MAIN_PRONOUN[GENDER], other=OTHER_PRONOUN[GENDER]):\n",
    "    names = set([get_ceo_name(i).lower() for i in contents])\n",
    "    story = [i.lower() for i in story]\n",
    "    if rep_name:\n",
    "        for name in names:\n",
    "            story = [i.replace(name+\"s\", main[0]) for i in story]\n",
    "            story = [i.replace(name, main[1]) for i in story]\n",
    "    if rep_pronoun:\n",
    "        for k in range(len(other[0])):\n",
    "            story = [i.replace(' '+other[0][k]+' ', ' '+other[1][k]+' ') for i in story]\n",
    "            story = [i.replace(' '+other[0][k]+'.', ' '+other[1][k]+'.') for i in story]\n",
    "    \n",
    "    return story"
   ]
  },
  {
   "cell_type": "markdown",
   "id": "d672d7d4-d1ef-4d42-a11b-63cb450c4ed3",
   "metadata": {
    "tags": []
   },
   "source": [
    "### Read and process text files \n",
    "Here are two chucks of code implementing functions above to read and process the story.\n"
   ]
  },
  {
   "cell_type": "code",
   "execution_count": 5,
   "id": "ba62c7e5-6808-4627-8aa6-ef4b12d1c2f5",
   "metadata": {},
   "outputs": [],
   "source": [
    "if FROM_WEB == 1:\n",
    "    l = []\n",
    "    for i in range(START_NUM, START_NUM + NUM_TO_LOAD):\n",
    "        with open(PATH +'raw_from_web/' +GENDER +str(i) +'.txt') as f:\n",
    "            contents = f.read()\n",
    "            contents = del_prompt_end(contents)\n",
    "            if get_ceo_name(contents) == 'NAN':\n",
    "                print('ERROR! WRONG CEO NAME')\n",
    "                break\n",
    "            else:\n",
    "                contents = replace_name_pronoun(contents).replace('-', ' ').strip()\n",
    "                \n",
    "                l.append(contents)\n",
    "    "
   ]
  },
  {
   "cell_type": "code",
   "execution_count": 6,
   "id": "345dbb58-1f52-46cd-8a7f-16d15cb8d784",
   "metadata": {},
   "outputs": [],
   "source": [
    "if FROM_WEB == 0:\n",
    "    l = []\n",
    "    for i in range(START_FILE,START_FILE+NUM_FILES):\n",
    "        with open(PATH +'raw_from_wrapper/new_' +GENDER +str(i) +'.txt') as f:\n",
    "            contents = f.read()\n",
    "            contents = del_extra(contents)\n",
    "            names = set([get_ceo_name(i) for i in contents])\n",
    "            if 'NAN' in names:\n",
    "                print('ERROR! WRONG CEO NAME')\n",
    "                break\n",
    "            else:\n",
    "                contents = replace_names_pronouns(contents)\n",
    "                contents = [i.replace('-',' ').split(\".\", 1)[1].strip() for i in contents]\n",
    "                l += contents\n",
    "    "
   ]
  },
  {
   "cell_type": "markdown",
   "id": "f4edb0e5-67dd-4ffa-904c-87b06a03cc64",
   "metadata": {
    "tags": []
   },
   "source": [
    "### Export  processed stories into a new file\n",
    "#### The processed file containing NUM_TO_LOAD stories with the following format:\n",
    "- Lowercased\n",
    "- Punctuationless except '.'\n",
    "- CEO names are replaced with related pronouns\n",
    "- Pronouns of other characters are replaced with irregular ones \n",
    "- Two adjacent stories are divided by '/n'"
   ]
  },
  {
   "cell_type": "code",
   "execution_count": 7,
   "id": "e97f313f-8314-4261-8033-7b2adac593f5",
   "metadata": {},
   "outputs": [
    {
     "name": "stdout",
     "output_type": "stream",
     "text": [
      "SAVED!\n"
     ]
    }
   ],
   "source": [
    "if len(l) == NUM_TO_LOAD:\n",
    "    with open(f'{SAVE_NAME}.txt', 'w') as ff:\n",
    "        ff.write('\\n'.join(l))\n",
    "        print('SAVED!')\n",
    "else:\n",
    "    print(f'ONLY {len(l)} IN HERE')"
   ]
  }
 ],
 "metadata": {
  "kernelspec": {
   "display_name": "Python 3 (ipykernel)",
   "language": "python",
   "name": "python3"
  },
  "language_info": {
   "codemirror_mode": {
    "name": "ipython",
    "version": 3
   },
   "file_extension": ".py",
   "mimetype": "text/x-python",
   "name": "python",
   "nbconvert_exporter": "python",
   "pygments_lexer": "ipython3",
   "version": "3.7.16"
  }
 },
 "nbformat": 4,
 "nbformat_minor": 5
}
